{
 "cells": [
  {
   "cell_type": "code",
   "execution_count": 23,
   "metadata": {},
   "outputs": [],
   "source": [
    "import numpy as np\n",
    "import pandas as pd\n",
    "import math"
   ]
  },
  {
   "cell_type": "code",
   "execution_count": 37,
   "metadata": {},
   "outputs": [],
   "source": [
    "# Data\n",
    "population = np.array([10000, 15000, 20000, 9000])\n",
    "years_in_business = np.array([5, 6, 6, 5])\n",
    "profit = np.array([10000, 12000, 13000, 12000]) "
   ]
  },
  {
   "cell_type": "code",
   "execution_count": 32,
   "metadata": {},
   "outputs": [],
   "source": [
    "\n",
    "def simple_linear_regression(X, Y):\n",
    "\n",
    "    theta_1 = np.sum((X - np.mean(X)) * (Y - np.mean(Y))) / np.sum((X - np.mean(X)) ** 2)\n",
    "    theta_0 = np.mean(Y) - theta_1 * np.mean(X)\n",
    "\n",
    "    return theta_1, theta_0\n",
    "\n",
    "\n",
    "def gradient_descent(X, Y, learning_rate=0.01, epochs=1000):\n",
    "\n",
    "    theta_1, theta_0 = 0, 0\n",
    "    n = len(X)\n",
    "    for _ in range(epochs):\n",
    "        Y_pred = theta_1 * X + theta_0\n",
    "        D_m = (-2/n) * np.sum(X * (Y - Y_pred))\n",
    "        D_b = (-2/n) * np.sum(Y - Y_pred)\n",
    "        theta_1 -= learning_rate * D_m\n",
    "        theta_0 -= learning_rate * D_b\n",
    "    return theta_1, theta_0\n",
    "\n"
   ]
  },
  {
   "cell_type": "code",
   "execution_count": null,
   "metadata": {},
   "outputs": [],
   "source": [
    "# Mean Squared Error (MSE) calculation\n",
    "def mean_squared_error(y_true, y_pred):\n",
    "    mse = np.mean((y_true - y_pred) ** 2)\n",
    "    return mse\n",
    "\n",
    "# R-squared (R²) calculation\n",
    "def r_squared(y_true, y_pred):\n",
    "    ss_total = np.sum((y_true - np.mean(y_true)) ** 2)\n",
    "    ss_residual = np.sum((y_true - y_pred) ** 2)\n",
    "    r2 = 1 - (ss_residual / ss_total)\n",
    "    return r2"
   ]
  },
  {
   "cell_type": "code",
   "execution_count": 33,
   "metadata": {},
   "outputs": [
    {
     "name": "stdout",
     "output_type": "stream",
     "text": [
      "Predicted X (Simple Linear Regression): [11000. 12500. 12500. 11000.]\n",
      "Predicted X (Simple Linear Regression GD): [10738.1531512  12719.47937813 12719.47937813 10738.1531512 ]\n"
     ]
    }
   ],
   "source": [
    "\n",
    "\n",
    "m_simple, b_simple = simple_linear_regression(years_in_business, profit)\n",
    "\n",
    "profit_pred_simple = m_simple * years_in_business + b_simple\n",
    "\n",
    "print(f\"Predicted X (Simple Linear Regression): {profit_pred_simple}\")\n",
    "\n",
    "m_simple_gd, b_simple_gd = gradient_descent(years_in_business, profit)\n",
    "\n",
    "profit_pred_simple_gd = m_simple_gd * years_in_business + b_simple_gd\n",
    "\n",
    "\n",
    "print(f\"Predicted X (Simple Linear Regression GD): {profit_pred_simple_gd}\")"
   ]
  },
  {
   "cell_type": "code",
   "execution_count": 34,
   "metadata": {},
   "outputs": [
    {
     "name": "stdout",
     "output_type": "stream",
     "text": [
      "Simple Linear Regression MSE: 625000.0\n",
      "Simple Linear Regression R²: 0.4736842105263158\n",
      "\n",
      "Simple Linear Regression (GD) MSE: 683367.4848264173\n",
      "Simple Linear Regression (GD) R²: 0.42453264435670124\n",
      "\n"
     ]
    }
   ],
   "source": [
    "# For normal case\n",
    "mse_simple = mean_squared_error(profit, profit_pred_simple)\n",
    "r2_simple = r_squared(profit, profit_pred_simple)\n",
    "print(f\"Simple Linear Regression MSE: {mse_simple}\")\n",
    "print(f\"Simple Linear Regression R²: {r2_simple}\\n\")\n",
    "\n",
    "# For Gradient Descent Case\n",
    "mse_simple_gd = mean_squared_error(profit, profit_pred_simple_gd)\n",
    "r2_simple_gd = r_squared(profit, profit_pred_simple_gd)\n",
    "print(f\"Simple Linear Regression (GD) MSE: {mse_simple_gd}\")\n",
    "print(f\"Simple Linear Regression (GD) R²: {r2_simple_gd}\\n\")"
   ]
  },
  {
   "cell_type": "code",
   "execution_count": 39,
   "metadata": {},
   "outputs": [
    {
     "name": "stdout",
     "output_type": "stream",
     "text": [
      "Predicted X (Multi-Linear Regression): [10386.36363636 12762.98701299 13639.61038961 10211.03896104]\n"
     ]
    }
   ],
   "source": [
    "def multi_linear_regression(X1, X2, Y):\n",
    "    X1_mean = np.mean(X1)\n",
    "    X2_mean = np.mean(X2)\n",
    "    Y_mean = np.mean(Y)\n",
    "    m1 = np.sum((X1 - X1_mean) * (Y - Y_mean)) / np.sum((X1 - X1_mean) ** 2)\n",
    "    m2 = np.sum((X2 - X2_mean) * (Y - Y_mean)) / np.sum((X2 - X2_mean) ** 2)\n",
    "    b = Y_mean - m1 * X1_mean - m2 * X2_mean\n",
    "\n",
    "    return m1, m2, b\n",
    "\n",
    "# Fitting the Multi-Linear Regression model\n",
    "m1_multi, m2_multi, b_multi = multi_linear_regression(population, years_in_business, profit)\n",
    "\n",
    "# Predicting, including the missing value\n",
    "profit_pred_multi = m1_multi * population + m2_multi * years_in_business + b_multi\n",
    "\n",
    "# Predicting the missing value (X)\n",
    "print(f\"Predicted X (Multi-Linear Regression): {profit_pred_multi}\")\n",
    "\n"
   ]
  },
  {
   "cell_type": "code",
   "execution_count": 36,
   "metadata": {},
   "outputs": [
    {
     "name": "stdout",
     "output_type": "stream",
     "text": [
      "Multi-Linear Regression MSE: 1085227.2727272734\n",
      "Multi-Linear Regression R²: 0.08612440191387505\n",
      "\n"
     ]
    }
   ],
   "source": [
    "# For normal case\n",
    "mse_multi = mean_squared_error(profit, profit_pred_multi)\n",
    "r2_multi = r_squared(profit, profit_pred_multi)\n",
    "print(f\"Multi-Linear Regression MSE: {mse_multi}\")\n",
    "print(f\"Multi-Linear Regression R²: {r2_multi}\\n\")\n",
    "\n"
   ]
  },
  {
   "cell_type": "code",
   "execution_count": 22,
   "metadata": {},
   "outputs": [
    {
     "name": "stdout",
     "output_type": "stream",
     "text": [
      "Model Comparison and Interpretation:\n",
      "Simple Linear Regression MSE: 625000.0, R²: 0.4736842105263158\n",
      "Multi-Linear Regression MSE: 1085227.2727272734, R²: 0.08612440191387505\n",
      "Simple Linear Regression performs better with lower MSE.\n",
      "Simple Linear Regression has a better fit with a higher R².\n"
     ]
    }
   ],
   "source": [
    "print(\"Model Comparison and Interpretation:\")\n",
    "print(f\"Simple Linear Regression MSE: {mse_simple}, R²: {r2_simple}\")\n",
    "print(f\"Multi-Linear Regression MSE: {mse_multi}, R²: {r2_multi}\")\n",
    "\n",
    "if mse_multi < mse_simple:\n",
    "    print(\"Multi-Linear Regression performs better with lower MSE.\")\n",
    "else:\n",
    "    print(\"Simple Linear Regression performs better with lower MSE.\")\n",
    "\n",
    "if r2_multi > r2_simple:\n",
    "    print(\"Multi-Linear Regression has a better fit with a higher R².\")\n",
    "else:\n",
    "    print(\"Simple Linear Regression has a better fit with a higher R².\")"
   ]
  },
  {
   "cell_type": "code",
   "execution_count": null,
   "metadata": {},
   "outputs": [],
   "source": []
  }
 ],
 "metadata": {
  "kernelspec": {
   "display_name": "Python 3",
   "language": "python",
   "name": "python3"
  },
  "language_info": {
   "codemirror_mode": {
    "name": "ipython",
    "version": 3
   },
   "file_extension": ".py",
   "mimetype": "text/x-python",
   "name": "python",
   "nbconvert_exporter": "python",
   "pygments_lexer": "ipython3",
   "version": "3.11.9"
  }
 },
 "nbformat": 4,
 "nbformat_minor": 2
}
