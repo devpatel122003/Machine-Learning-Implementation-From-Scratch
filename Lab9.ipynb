{
 "cells": [
  {
   "cell_type": "code",
   "execution_count": 10,
   "metadata": {},
   "outputs": [
    {
     "name": "stdout",
     "output_type": "stream",
     "text": [
      "   Age  Salary  Buy\n",
      "0   25   50000    0\n",
      "1   45   90000    1\n",
      "2   35   60000    0\n",
      "3   50   80000    1\n",
      "4   23   55000    0\n",
      "5   43   95000    1\n",
      "6   21   45000    0\n",
      "7   35   70000    0\n",
      "8   55  105000    1\n",
      "9   22   48000    0\n"
     ]
    }
   ],
   "source": [
    "import numpy as np\n",
    "import pandas as pd\n",
    "\n",
    "def create_dataset():\n",
    "    dataset = pd.DataFrame({\n",
    "        'Age': [25, 45, 35, 50, 23, 43, 21, 35, 55, 22],\n",
    "        'Salary': [50000, 90000, 60000, 80000, 55000, 95000, 45000, 70000, 105000, 48000],\n",
    "        'Buy': [0, 1, 0, 1, 0, 1, 0, 0, 1, 0]\n",
    "    })\n",
    "    return dataset\n",
    "\n",
    "dataset = create_dataset()\n",
    "print(dataset)\n"
   ]
  },
  {
   "cell_type": "code",
   "execution_count": 8,
   "metadata": {},
   "outputs": [],
   "source": [
    "class DecisionTree:\n",
    "    def __init__(self, min_samples_split=2, max_depth=2):\n",
    "        self.min_samples_split = min_samples_split\n",
    "        self.max_depth = max_depth\n",
    "        self.tree = None\n",
    "\n",
    "    def fit(self, X, y):\n",
    "        dataset = np.c_[X, y] \n",
    "        self.tree = self._build_tree(dataset)\n",
    "\n",
    "    def predict(self, X):\n",
    "        predictions = [self._make_prediction(x, self.tree) for x in X]\n",
    "        return np.array(predictions)\n",
    "\n",
    "    def _gini_index(self, groups, classes):\n",
    "        n_instances = sum([len(group) for group in groups])\n",
    "        gini = 0.0\n",
    "        for group in groups:\n",
    "            size = len(group)\n",
    "            if size == 0:\n",
    "                continue\n",
    "            score = 0.0\n",
    "            for class_val in classes:\n",
    "                p = [row[-1] for row in group].count(class_val) / size\n",
    "                score += p * p\n",
    "            gini += (1.0 - score) * (size / n_instances)\n",
    "        return gini\n",
    "\n",
    "    def _test_split(self, index, value, dataset):\n",
    "        left, right = list(), list()\n",
    "        for row in dataset:\n",
    "            if row[index] < value:\n",
    "                left.append(row)\n",
    "            else:\n",
    "                right.append(row)\n",
    "        return left, right\n",
    "\n",
    "    def _get_split(self, dataset):\n",
    "        class_values = list(set(row[-1] for row in dataset))\n",
    "        b_index, b_value, b_score, b_groups = 999, 999, 999, None\n",
    "        for index in range(len(dataset[0]) - 1):\n",
    "            for row in dataset:\n",
    "                groups = self._test_split(index, row[index], dataset)\n",
    "                gini = self._gini_index(groups, class_values)\n",
    "                if gini < b_score:\n",
    "                    b_index, b_value, b_score, b_groups = index, row[index], gini, groups\n",
    "        return {'index': b_index, 'value': b_value, 'groups': b_groups}\n",
    "\n",
    "    def _to_terminal(self, group):\n",
    "        outcomes = [row[-1] for row in group]\n",
    "        return max(set(outcomes), key=outcomes.count)\n",
    "\n",
    "    def _split(self, node, depth):\n",
    "        left, right = node['groups']\n",
    "        del(node['groups'])\n",
    "        if not left or not right:\n",
    "            node['left'] = node['right'] = self._to_terminal(left + right)\n",
    "            return\n",
    "        if depth >= self.max_depth:\n",
    "            node['left'], node['right'] = self._to_terminal(left), self._to_terminal(right)\n",
    "            return\n",
    "        if len(left) <= self.min_samples_split:\n",
    "            node['left'] = self._to_terminal(left)\n",
    "        else:\n",
    "            node['left'] = self._get_split(left)\n",
    "            self._split(node['left'], depth+1)\n",
    "        if len(right) <= self.min_samples_split:\n",
    "            node['right'] = self._to_terminal(right)\n",
    "        else:\n",
    "            node['right'] = self._get_split(right)\n",
    "            self._split(node['right'], depth+1)\n",
    "\n",
    "    def _build_tree(self, train):\n",
    "        root = self._get_split(train)\n",
    "        self._split(root, 1)\n",
    "        return root\n",
    "\n",
    "    def _make_prediction(self, row, node):\n",
    "        if row[node['index']] < node['value']:\n",
    "            if isinstance(node['left'], dict):\n",
    "                return self._make_prediction(row, node['left'])\n",
    "            else:\n",
    "                return node['left']\n",
    "        else:\n",
    "            if isinstance(node['right'], dict):\n",
    "                return self._make_prediction(row, node['right'])\n",
    "            else:\n",
    "                return node['right']\n"
   ]
  },
  {
   "cell_type": "code",
   "execution_count": 9,
   "metadata": {},
   "outputs": [
    {
     "name": "stdout",
     "output_type": "stream",
     "text": [
      "Predictions: [0 1 0 1 0 1 0 0 1 0]\n",
      "Actual: [0 1 0 1 0 1 0 0 1 0]\n"
     ]
    }
   ],
   "source": [
    "if __name__ == \"__main__\":\n",
    "    dataset = create_dataset()\n",
    "\n",
    "    X = dataset[['Age', 'Salary']].values\n",
    "    y = dataset['Buy'].values\n",
    "\n",
    "    model = DecisionTree(max_depth=3)\n",
    "    model.fit(X, y)\n",
    "\n",
    "    predictions = model.predict(X)\n",
    "    print(\"Predictions:\", predictions)\n",
    "    print(\"Actual:\", y)\n"
   ]
  }
 ],
 "metadata": {
  "kernelspec": {
   "display_name": "Python 3",
   "language": "python",
   "name": "python3"
  },
  "language_info": {
   "codemirror_mode": {
    "name": "ipython",
    "version": 3
   },
   "file_extension": ".py",
   "mimetype": "text/x-python",
   "name": "python",
   "nbconvert_exporter": "python",
   "pygments_lexer": "ipython3",
   "version": "3.11.9"
  }
 },
 "nbformat": 4,
 "nbformat_minor": 2
}
